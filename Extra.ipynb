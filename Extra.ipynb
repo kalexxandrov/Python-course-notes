{
 "cells": [
  {
   "cell_type": "markdown",
   "metadata": {},
   "source": [
    "# Модуль re и его функции\n",
    "\n",
    "* `sub()`: принимает строку, возвращает строку, в которой указанные символы заменены на указанные символы. Синтаксис: `re.sub(pattern, replacement, original_string)`, где `pattern` - знаки препинания или шаблон выражений, которые нужно заменить, а `replacement` - строка, которая будет заменять шаблон."
   ]
  },
  {
   "cell_type": "code",
   "execution_count": null,
   "metadata": {},
   "outputs": [],
   "source": [
    "import re\n",
    "\n",
    "words = re.sub(r'[.,;:-?-!]', '', 'Привет! Как дела? Я живу-поживаю нормально: лето за окном.')\n",
    "print(words) # Привет Как дела Я живупоживаю нормально лето за окном"
   ]
  },
  {
   "cell_type": "markdown",
   "metadata": {},
   "source": [
    "# **Модуль string**\n",
    "\n",
    "Позволяет импортировать английский алфавит в нижнем (ascii_lowercase) или верхнем (ascii_uppercase) регистрах, цифры (digits), а также знаки препинания (punctuation). Импортируются в виде строк.\n",
    "\n",
    "Синтаксис:\n",
    "\n",
    "`from string import ascii_lowercase`"
   ]
  }
 ],
 "metadata": {
  "kernelspec": {
   "display_name": "Python 3",
   "language": "python",
   "name": "python3"
  },
  "language_info": {
   "codemirror_mode": {
    "name": "ipython",
    "version": 3
   },
   "file_extension": ".py",
   "mimetype": "text/x-python",
   "name": "python",
   "nbconvert_exporter": "python",
   "pygments_lexer": "ipython3",
   "version": "3.12.3"
  }
 },
 "nbformat": 4,
 "nbformat_minor": 2
}
